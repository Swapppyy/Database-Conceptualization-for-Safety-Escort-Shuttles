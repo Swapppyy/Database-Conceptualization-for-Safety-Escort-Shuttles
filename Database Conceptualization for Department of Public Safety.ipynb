{
 "cells": [
  {
   "cell_type": "markdown",
   "metadata": {},
   "source": [
    "# Database Conceptualization for Department of Public Safety\n"
   ]
  },
  {
   "cell_type": "markdown",
   "metadata": {},
   "source": [
    "## Business Description"
   ]
  },
  {
   "cell_type": "markdown",
   "metadata": {},
   "source": [
    "<p>The Department of Public Safety database is designed to provide Syracuse University students with a safe and reliable ride service during midnight hours, specifically from 8 pm to 6 am. The database will be managed by the University's police department and will include important student details, such as their name, contact information, and current location.</p>"
   ]
  },
  {
   "cell_type": "markdown",
   "metadata": {},
   "source": [
    "<p>The primary goal of this project is to ensure that students who are out late at night have a safe and convenient means of transportation back to their residences. Students can use the database to request a ride and specify their destination. The police department will then match the request with an available driver and supply the necessary information to ensure the ride is completed safely and efficiently.</p>"
   ]
  },
  {
   "cell_type": "markdown",
   "metadata": {},
   "source": [
    "<p>The database will also include a map for drivers to find the student in need of a ride and provide details about the driver, such as their name, license number, and vehicle information. This additional information is intended to make students feel safe and comfortable during their ride.</p>"
   ]
  },
  {
   "cell_type": "markdown",
   "metadata": {},
   "source": [
    "### Problem Statement"
   ]
  },
  {
   "cell_type": "markdown",
   "metadata": {},
   "source": [
    "<p>The problem identified is that the Department of Public Safety staff are unaware of the history of the service they have provided. Additionally, they lack a reliable way to handle student car reservations. Students are also unable to see whether a car would be available when they call for one.</p>"
   ]
  },
  {
   "cell_type": "markdown",
   "metadata": {},
   "source": [
    "### Proposed Solution:"
   ]
  },
  {
   "cell_type": "markdown",
   "metadata": {},
   "source": [
    "<p>The proposed solution involves building a logical and functional database to manage requests for car rides. This relational database will facilitate the storage, retrieval, and modification of information related to car sharing. It will help the Department of Public Safety to have a clear view of the historical data of car reservations, manage student requests, and track car availability. Students will also be able to check the availability of cars.</p>"
   ]
  },
  {
   "cell_type": "markdown",
   "metadata": {},
   "source": [
    "### Users:\n",
    "<p>The users of this system will be the employees of the Department of Public Safety and the students at Syracuse University. DPS employees will use the system to access information about student requests, while students can use it to check car availability and estimate wait times."
   ]
  },
  {
   "cell_type": "markdown",
   "metadata": {},
   "source": [
    "## Entities and Attributes:"
   ]
  },
  {
   "cell_type": "markdown",
   "metadata": {},
   "source": [
    "<p>The project involves several entities and their attributes, including:<br>\n",
    "    \n",
    "- <p> STUDENTS: Information about students using the ride service.\n",
    "- <p> EMPLOYEE: Information about employees involved in the service.\n",
    "- <p> ROLES: Information about the different roles employees can have.\n",
    "- <p> LOCATIONS: Details about trip locations.\n",
    "- <p> CARS: Information about the vehicles used for the ride service.\n",
    "- <p> TRIPS: Records of individual trips made by students."
   ]
  },
  {
   "cell_type": "markdown",
   "metadata": {},
   "source": [
    "<p>This project aims to create a database system that enables the Department of Public Safety at Syracuse University to efficiently manage and provide safe late-night transportation services to students. It involves the design and implementation of a relational database with various tables to store information about students, employees, roles, trip details, cars, and locations, facilitating the coordination of the ride service."
   ]
  },
  {
   "cell_type": "markdown",
   "metadata": {},
   "source": [
    "### Data Analysis of Entities, Attributes, and Relationships:"
   ]
  },
  {
   "cell_type": "markdown",
   "metadata": {},
   "source": [
    "![Entities and Attributes](Entities and Attributes.png)"
   ]
  },
  {
   "cell_type": "markdown",
   "metadata": {},
   "source": [
    "![Entities and Attributes](Entities and attributes 2.png)"
   ]
  },
  {
   "cell_type": "markdown",
   "metadata": {},
   "source": [
    "#### Relationships:\n",
    "![](Relationships.png)"
   ]
  },
  {
   "cell_type": "markdown",
   "metadata": {},
   "source": [
    "#### Conceptual Data Model\n",
    "![](Data Model.png)"
   ]
  },
  {
   "cell_type": "markdown",
   "metadata": {},
   "source": [
    "#### Logical Model\n",
    "![](Logical Model.png)"
   ]
  },
  {
   "cell_type": "code",
   "execution_count": null,
   "metadata": {},
   "outputs": [],
   "source": []
  }
 ],
 "metadata": {
  "kernelspec": {
   "display_name": "Python 3 (ipykernel)",
   "language": "python",
   "name": "python3"
  },
  "language_info": {
   "codemirror_mode": {
    "name": "ipython",
    "version": 3
   },
   "file_extension": ".py",
   "mimetype": "text/x-python",
   "name": "python",
   "nbconvert_exporter": "python",
   "pygments_lexer": "ipython3",
   "version": "3.9.12"
  }
 },
 "nbformat": 4,
 "nbformat_minor": 2
}
